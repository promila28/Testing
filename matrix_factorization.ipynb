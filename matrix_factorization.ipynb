{
 "cells": [
  {
   "cell_type": "code",
   "execution_count": 46,
   "id": "53692991",
   "metadata": {},
   "outputs": [],
   "source": [
    "import numpy\n",
    "\n",
    "def matrix_factorization(R, P, Q, K, steps=5, alpha=0.0002, beta=0.02):\n",
    "    Q = Q.T\n",
    "    #print(\"P\",P)\n",
    "    #print(\"Q\",Q)\n",
    "    for step in range(steps):\n",
    "        for i in range(len(R)):\n",
    "            for j in range(len(R[i])):\n",
    "                #print('i',i,'j',j)\n",
    "                if R[i][j] > 0:\n",
    "                    eij = R[i][j] - numpy.dot(P[i,:],Q[:,j])\n",
    "                    #print('eij',eij,'R[i][j]',R[i][j],'i',i,'j',j)\n",
    "                    #print(\"numpy.dot(P[i,:],Q[:,j]\",\"i\",\"j\",numpy.dot(P[i,:],Q[:,j]),i,j)\n",
    "                    for k in range(K):\n",
    "                        P[i][k] = P[i][k] + alpha * (2 * eij * Q[k][j] - beta * P[i][k])\n",
    "                        Q[k][j] = Q[k][j] + alpha * (2 * eij * P[i][k] - beta * Q[k][j])\n",
    "                        #print(\"P[i][k]\",P[i][k],\"Q[k][j]\",Q[k][j])\n",
    "        eR = numpy.dot(P,Q)\n",
    "        e = 0\n",
    "        for i in range(len(R)):\n",
    "            for j in range(len(R[i])):\n",
    "                if R[i][j] > 0:\n",
    "                    e = e + pow(R[i][j] - numpy.dot(P[i,:],Q[:,j]), 2)\n",
    "                    for k in range(K):\n",
    "                        e = e + (beta/2) * (pow(P[i][k],2) + pow(Q[k][j],2))\n",
    "        if e < 0.001:\n",
    "            break\n",
    "    return P, Q.T"
   ]
  },
  {
   "cell_type": "code",
   "execution_count": 47,
   "id": "c6846979",
   "metadata": {},
   "outputs": [
    {
     "name": "stdout",
     "output_type": "stream",
     "text": [
      "R [[5 3]\n",
      " [4 0]] R[0] [5 3]\n",
      "2\n",
      "eij 4.447193449459074 R[i][j] 5 i 0 j 0\n",
      "eij 2.491023017609542 R[i][j] 3 i 0 j 1\n",
      "eij 3.2480651484958303 R[i][j] 4 i 1 j 0\n",
      "eij 4.443739796570021 R[i][j] 5 i 0 j 0\n",
      "eij 2.488418363402127 R[i][j] 3 i 0 j 1\n",
      "eij 3.2442809044290337 R[i][j] 4 i 1 j 0\n",
      "eij 4.440269830955607 R[i][j] 5 i 0 j 0\n",
      "eij 2.485806840991339 R[i][j] 3 i 0 j 1\n",
      "eij 3.2404872458228526 R[i][j] 4 i 1 j 0\n",
      "eij 4.436783522171099 R[i][j] 5 i 0 j 0\n",
      "eij 2.4831884446233046 R[i][j] 3 i 0 j 1\n",
      "eij 3.2366841615000146 R[i][j] 4 i 1 j 0\n",
      "eij 4.433280840067973 R[i][j] 5 i 0 j 0\n",
      "eij 2.4805631686909337 R[i][j] 3 i 0 j 1\n",
      "eij 3.2328716405434794 R[i][j] 4 i 1 j 0\n"
     ]
    }
   ],
   "source": [
    "R = [\n",
    "     [5,3],\n",
    "     [4,0]    \n",
    "    ]\n",
    "\n",
    "R = numpy.array(R)\n",
    "print(\"R\", R,\"R[0]\",R[0])\n",
    "print(len(R[0]))\n",
    "N = len(R)\n",
    "M = len(R[0])\n",
    "K = 2\n",
    "\n",
    "P = numpy.random.rand(N,K)#5,2\n",
    "Q = numpy.random.rand(M,K)#4,2\n",
    "\n",
    "nP, nQ = matrix_factorization(R, P, Q, K)\n",
    "nR = numpy.dot(nP, nQ.T)"
   ]
  },
  {
   "cell_type": "code",
   "execution_count": 19,
   "id": "4bae7a60",
   "metadata": {},
   "outputs": [
    {
     "data": {
      "text/plain": [
       "array([[4.98078947, 2.97267282, 3.04315169, 0.998755  ],\n",
       "       [3.97624947, 2.38585414, 2.64647029, 0.99746678],\n",
       "       [1.03504963, 0.9196234 , 5.78459445, 4.95799482],\n",
       "       [0.98236291, 0.8261778 , 4.69422462, 3.971765  ],\n",
       "       [1.43202118, 1.09285842, 4.94014884, 4.03537043]])"
      ]
     },
     "execution_count": 19,
     "metadata": {},
     "output_type": "execute_result"
    }
   ],
   "source": [
    "nR"
   ]
  },
  {
   "cell_type": "code",
   "execution_count": null,
   "id": "22b41640",
   "metadata": {},
   "outputs": [],
   "source": []
  },
  {
   "cell_type": "code",
   "execution_count": null,
   "id": "9d572129",
   "metadata": {},
   "outputs": [],
   "source": []
  }
 ],
 "metadata": {
  "kernelspec": {
   "display_name": "Python 3 (ipykernel)",
   "language": "python",
   "name": "python3"
  },
  "language_info": {
   "codemirror_mode": {
    "name": "ipython",
    "version": 3
   },
   "file_extension": ".py",
   "mimetype": "text/x-python",
   "name": "python",
   "nbconvert_exporter": "python",
   "pygments_lexer": "ipython3",
   "version": "3.10.9"
  }
 },
 "nbformat": 4,
 "nbformat_minor": 5
}
